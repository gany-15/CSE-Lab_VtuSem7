{
 "cells": [
  {
   "cell_type": "code",
   "execution_count": 6,
   "metadata": {},
   "outputs": [
    {
     "name": "stdout",
     "output_type": "stream",
     "text": [
      "Total Instances 19\n",
      "First 5 Instances\n",
      "I love this sandwich , pos\n",
      "This is an amazing place , pos\n",
      "I feel very good about these beers , pos\n",
      "This is my best work , pos\n",
      "What an awesome view , pos\n"
     ]
    }
   ],
   "source": [
    "import pandas as pd\n",
    "msg = pd.read_csv('datasets/6.csv', names=['message','label'])\n",
    "print('Total Instances', msg.shape[0])\n",
    "msg['labelnum'] = msg.label.map({'pos':1,'neg':0})\n",
    "X = msg.message\n",
    "Y = msg.labelnum\n",
    "x5,y5 = X[:5],msg.label[:5]\n",
    "print('First 5 Instances')\n",
    "for x,y in zip(x5,y5):\n",
    "    print(x,',',y)"
   ]
  },
  {
   "cell_type": "code",
   "execution_count": 7,
   "metadata": {},
   "outputs": [
    {
     "name": "stdout",
     "output_type": "stream",
     "text": [
      "Features Extracted\n",
      "['about', 'am', 'amazing', 'an', 'and', 'awesome', 'bad', 'beers', 'best', 'boss', 'dance', 'do', 'enemy', 'feel', 'good', 'great', 'holiday', 'horrible', 'house', 'is', 'juice', 'like', 'locality', 'love', 'my', 'not', 'of', 'place', 'restaurant', 'sandwich', 'sick', 'stay', 'taste', 'that', 'the', 'these', 'this', 'tired', 'to', 'today', 'very', 'view', 'went', 'what', 'work']\n"
     ]
    }
   ],
   "source": [
    "from sklearn.model_selection import train_test_split\n",
    "from sklearn.feature_extraction.text import CountVectorizer\n",
    "xtrain,xtest,ytrain,ytest = train_test_split(X,Y)\n",
    "cv = CountVectorizer()\n",
    "xtrain_dtm = cv.fit_transform(xtrain)\n",
    "xtest_dtm = cv.transform(xtest)\n",
    "print('Features Extracted')\n",
    "print(cv.get_feature_names())"
   ]
  },
  {
   "cell_type": "code",
   "execution_count": 8,
   "metadata": {},
   "outputs": [
    {
     "name": "stdout",
     "output_type": "stream",
     "text": [
      "Accuracy\n",
      "0.6\n",
      "Precision\n",
      "0.5\n",
      "Recall\n",
      "0.5\n",
      "Confusion Matrix\n",
      "[[2 1]\n",
      " [1 1]]\n"
     ]
    }
   ],
   "source": [
    "from sklearn.naive_bayes import MultinomialNB\n",
    "model = MultinomialNB().fit(xtrain_dtm,ytrain)\n",
    "preds = model.predict(xtest_dtm)\n",
    "\n",
    "import sklearn.metrics as sm\n",
    "print('Accuracy')\n",
    "print(sm.accuracy_score(ytest,preds))\n",
    "print('Precision')\n",
    "print(sm.precision_score(ytest,preds))\n",
    "print('Recall')\n",
    "print(sm.recall_score(ytest,preds))\n",
    "print('Confusion Matrix')\n",
    "print(sm.confusion_matrix(ytest,preds))"
   ]
  },
  {
   "cell_type": "code",
   "execution_count": null,
   "metadata": {},
   "outputs": [],
   "source": []
  }
 ],
 "metadata": {
  "kernelspec": {
   "display_name": "Python 3",
   "language": "python",
   "name": "python3"
  },
  "language_info": {
   "codemirror_mode": {
    "name": "ipython",
    "version": 3
   },
   "file_extension": ".py",
   "mimetype": "text/x-python",
   "name": "python",
   "nbconvert_exporter": "python",
   "pygments_lexer": "ipython3",
   "version": "3.7.4"
  }
 },
 "nbformat": 4,
 "nbformat_minor": 2
}
