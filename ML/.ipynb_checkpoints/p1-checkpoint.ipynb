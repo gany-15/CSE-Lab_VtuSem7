{
 "cells": [
  {
   "cell_type": "code",
   "execution_count": 12,
   "metadata": {},
   "outputs": [],
   "source": [
    "import csv\n",
    "def fileReader(filename):\n",
    "    lines = csv.reader(open(filename,'r'))\n",
    "    dataset = list(lines)\n",
    "    return dataset"
   ]
  },
  {
   "cell_type": "code",
   "execution_count": 13,
   "metadata": {},
   "outputs": [
    {
     "name": "stdout",
     "output_type": "stream",
     "text": [
      "['Sky', 'Temperature', 'Humidity', 'Wind', 'Water', 'Forecast']\n"
     ]
    }
   ],
   "source": [
    "filename = 'datasets/1.csv'\n",
    "dataset = fileReader(filename)\n",
    "attributes = ['Sky','Temperature','Humidity','Wind','Water','Forecast']\n",
    "print(attributes)"
   ]
  },
  {
   "cell_type": "code",
   "execution_count": 14,
   "metadata": {},
   "outputs": [
    {
     "name": "stdout",
     "output_type": "stream",
     "text": [
      "Dataset\n",
      "['Sunny', 'Warm', 'Normal', 'Strong', 'Warm', 'Same', 'Yes']\n",
      "['Sunny', 'Warm', 'High', 'Strong', 'Warm', 'Same', 'Yes']\n",
      "['Rainy', 'Cold', 'High', 'Strong', 'Warm', 'Change', 'No']\n",
      "['Sunny', 'Warm', 'High', 'Strong', 'Cool', 'Change', 'Yes']\n"
     ]
    }
   ],
   "source": [
    "print('Dataset')\n",
    "for i in range(len(dataset)):\n",
    "    print(dataset[i])"
   ]
  },
  {
   "cell_type": "code",
   "execution_count": 15,
   "metadata": {},
   "outputs": [
    {
     "name": "stdout",
     "output_type": "stream",
     "text": [
      "Most Specific Hypothesis: ['0', '0', '0', '0', '0', '0']\n",
      "H 1 - ['Sunny', 'Warm', 'Normal', 'Strong', 'Warm', 'Same']\n",
      "H 2 - ['Sunny', 'Warm', '?', 'Strong', 'Warm', 'Same']\n",
      "H 3 - ['Sunny', 'Warm', '?', 'Strong', 'Warm', 'Same']\n",
      "H 4 - ['Sunny', 'Warm', '?', 'Strong', '?', '?']\n",
      "Final Hypothesis: ['Sunny', 'Warm', '?', 'Strong', '?', '?']\n"
     ]
    }
   ],
   "source": [
    "n = len(attributes)\n",
    "h = ['0']*n\n",
    "print('Most Specific Hypothesis:', h)\n",
    "\n",
    "for i in range(len(dataset)):\n",
    "    target = dataset[i][-1]\n",
    "    if target=='Yes':\n",
    "        for j in range(n):\n",
    "            if h[j]=='0':\n",
    "                h[j]=dataset[i][j]\n",
    "            if h[j]!=dataset[i][j]:\n",
    "                h[j]='?'\n",
    "    print('H',(i+1),'-',h)\n",
    "\n",
    "print('Final Hypothesis:',h)"
   ]
  },
  {
   "cell_type": "code",
   "execution_count": null,
   "metadata": {},
   "outputs": [],
   "source": []
  }
 ],
 "metadata": {
  "kernelspec": {
   "display_name": "Python 3",
   "language": "python",
   "name": "python3"
  },
  "language_info": {
   "codemirror_mode": {
    "name": "ipython",
    "version": 3
   },
   "file_extension": ".py",
   "mimetype": "text/x-python",
   "name": "python",
   "nbconvert_exporter": "python",
   "pygments_lexer": "ipython3",
   "version": "3.7.4"
  }
 },
 "nbformat": 4,
 "nbformat_minor": 2
}
