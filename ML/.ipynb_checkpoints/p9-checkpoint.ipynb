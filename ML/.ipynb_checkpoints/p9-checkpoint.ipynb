{
 "cells": [
  {
   "cell_type": "code",
   "execution_count": 9,
   "metadata": {},
   "outputs": [
    {
     "name": "stdout",
     "output_type": "stream",
     "text": [
      "Total Samples 150\n",
      "Training Size: (75, 4) (75,)\n",
      "Test Size: (75, 4) (75,)\n"
     ]
    }
   ],
   "source": [
    "from sklearn import datasets\n",
    "from sklearn.model_selection import train_test_split\n",
    "from sklearn.neighbors import KNeighborsClassifier\n",
    "\n",
    "iris = datasets.load_iris()\n",
    "print('Total Samples', iris.data.shape[0])\n",
    "xtrain,xtest,ytrain,ytest = train_test_split(iris.data,iris.target,test_size=0.5)\n",
    "print('Training Size:',xtrain.shape,ytrain.shape)\n",
    "print('Test Size:',xtest.shape,ytest.shape)"
   ]
  },
  {
   "cell_type": "code",
   "execution_count": 10,
   "metadata": {},
   "outputs": [
    {
     "name": "stdout",
     "output_type": "stream",
     "text": [
      "Label 0 - setosa\n",
      "Label 1 - versicolor\n",
      "Label 2 - virginica\n"
     ]
    }
   ],
   "source": [
    "for i in range(len(iris.target_names)):\n",
    "    print('Label',i,'-',iris.target_names[i])"
   ]
  },
  {
   "cell_type": "code",
   "execution_count": 11,
   "metadata": {},
   "outputs": [
    {
     "name": "stdout",
     "output_type": "stream",
     "text": [
      "Sample [5.1 3.5 1.4 0.2] Actual 0 Pred 0\n",
      "Sample [4.9 3.  1.4 0.2] Actual 0 Pred 2\n",
      "Sample [4.7 3.2 1.3 0.2] Actual 0 Pred 0\n",
      "Sample [4.6 3.1 1.5 0.2] Actual 0 Pred 1\n",
      "Sample [5.  3.6 1.4 0.2] Actual 0 Pred 2\n",
      "Sample [5.4 3.9 1.7 0.4] Actual 0 Pred 0\n",
      "Sample [4.6 3.4 1.4 0.3] Actual 0 Pred 1\n",
      "Sample [5.  3.4 1.5 0.2] Actual 0 Pred 1\n",
      "Sample [4.4 2.9 1.4 0.2] Actual 0 Pred 0\n",
      "Sample [4.9 3.1 1.5 0.1] Actual 0 Pred 1\n",
      "Sample [5.4 3.7 1.5 0.2] Actual 0 Pred 0\n",
      "Sample [4.8 3.4 1.6 0.2] Actual 0 Pred 0\n",
      "Sample [4.8 3.  1.4 0.1] Actual 0 Pred 1\n",
      "Sample [4.3 3.  1.1 0.1] Actual 0 Pred 1\n",
      "Sample [5.8 4.  1.2 0.2] Actual 0 Pred 0\n",
      "Sample [5.7 4.4 1.5 0.4] Actual 0 Pred 1\n",
      "Sample [5.4 3.9 1.3 0.4] Actual 0 Pred 2\n",
      "Sample [5.1 3.5 1.4 0.3] Actual 0 Pred 2\n",
      "Sample [5.7 3.8 1.7 0.3] Actual 0 Pred 1\n",
      "Sample [5.1 3.8 1.5 0.3] Actual 0 Pred 2\n",
      "Sample [5.4 3.4 1.7 0.2] Actual 0 Pred 2\n",
      "Sample [5.1 3.7 1.5 0.4] Actual 0 Pred 2\n",
      "Sample [4.6 3.6 1.  0.2] Actual 0 Pred 1\n",
      "Sample [5.1 3.3 1.7 0.5] Actual 0 Pred 2\n",
      "Sample [4.8 3.4 1.9 0.2] Actual 0 Pred 0\n",
      "Sample [5.  3.  1.6 0.2] Actual 0 Pred 0\n",
      "Sample [5.  3.4 1.6 0.4] Actual 0 Pred 0\n",
      "Sample [5.2 3.5 1.5 0.2] Actual 0 Pred 1\n",
      "Sample [5.2 3.4 1.4 0.2] Actual 0 Pred 2\n",
      "Sample [4.7 3.2 1.6 0.2] Actual 0 Pred 0\n",
      "Sample [4.8 3.1 1.6 0.2] Actual 0 Pred 1\n",
      "Sample [5.4 3.4 1.5 0.4] Actual 0 Pred 0\n",
      "Sample [5.2 4.1 1.5 0.1] Actual 0 Pred 1\n",
      "Sample [5.5 4.2 1.4 0.2] Actual 0 Pred 0\n",
      "Sample [4.9 3.1 1.5 0.2] Actual 0 Pred 2\n",
      "Sample [5.  3.2 1.2 0.2] Actual 0 Pred 1\n",
      "Sample [5.5 3.5 1.3 0.2] Actual 0 Pred 2\n",
      "Sample [4.9 3.6 1.4 0.1] Actual 0 Pred 0\n",
      "Sample [4.4 3.  1.3 0.2] Actual 0 Pred 2\n",
      "Sample [5.1 3.4 1.5 0.2] Actual 0 Pred 2\n",
      "Sample [5.  3.5 1.3 0.3] Actual 0 Pred 1\n",
      "Sample [4.5 2.3 1.3 0.3] Actual 0 Pred 2\n",
      "Sample [4.4 3.2 1.3 0.2] Actual 0 Pred 0\n",
      "Sample [5.  3.5 1.6 0.6] Actual 0 Pred 0\n",
      "Sample [5.1 3.8 1.9 0.4] Actual 0 Pred 0\n",
      "Sample [4.8 3.  1.4 0.3] Actual 0 Pred 0\n",
      "Sample [5.1 3.8 1.6 0.2] Actual 0 Pred 2\n",
      "Sample [4.6 3.2 1.4 0.2] Actual 0 Pred 0\n",
      "Sample [5.3 3.7 1.5 0.2] Actual 0 Pred 1\n",
      "Sample [5.  3.3 1.4 0.2] Actual 0 Pred 2\n",
      "Sample [7.  3.2 4.7 1.4] Actual 1 Pred 1\n",
      "Sample [6.4 3.2 4.5 1.5] Actual 1 Pred 0\n",
      "Sample [6.9 3.1 4.9 1.5] Actual 1 Pred 2\n",
      "Sample [5.5 2.3 4.  1.3] Actual 1 Pred 2\n",
      "Sample [6.5 2.8 4.6 1.5] Actual 1 Pred 1\n",
      "Sample [5.7 2.8 4.5 1.3] Actual 1 Pred 2\n",
      "Sample [6.3 3.3 4.7 1.6] Actual 1 Pred 2\n",
      "Sample [4.9 2.4 3.3 1. ] Actual 1 Pred 0\n",
      "Sample [6.6 2.9 4.6 1.3] Actual 1 Pred 2\n",
      "Sample [5.2 2.7 3.9 1.4] Actual 1 Pred 1\n",
      "Sample [5.  2.  3.5 1. ] Actual 1 Pred 0\n",
      "Sample [5.9 3.  4.2 1.5] Actual 1 Pred 2\n",
      "Sample [6.  2.2 4.  1. ] Actual 1 Pred 0\n",
      "Sample [6.1 2.9 4.7 1.4] Actual 1 Pred 1\n",
      "Sample [5.6 2.9 3.6 1.3] Actual 1 Pred 1\n",
      "Sample [6.7 3.1 4.4 1.4] Actual 1 Pred 0\n",
      "Sample [5.6 3.  4.5 1.5] Actual 1 Pred 1\n",
      "Sample [5.8 2.7 4.1 1. ] Actual 1 Pred 1\n",
      "Sample [6.2 2.2 4.5 1.5] Actual 1 Pred 2\n",
      "Sample [5.6 2.5 3.9 1.1] Actual 1 Pred 0\n",
      "Sample [5.9 3.2 4.8 1.8] Actual 1 Pred 1\n",
      "Sample [6.1 2.8 4.  1.3] Actual 1 Pred 2\n",
      "Sample [6.3 2.5 4.9 1.5] Actual 1 Pred 1\n",
      "Sample [6.1 2.8 4.7 1.2] Actual 1 Pred 1\n",
      "Sample [6.4 2.9 4.3 1.3] Actual 1 Pred 1\n"
     ]
    }
   ],
   "source": [
    "model = KNeighborsClassifier(n_neighbors=2)\n",
    "model.fit(xtrain,ytrain)\n",
    "preds = model.predict(xtest)\n",
    "for i in range(len(xtest)):\n",
    "    print('Sample',iris.data[i],'Actual',iris.target[i],'Pred',preds[i])"
   ]
  },
  {
   "cell_type": "code",
   "execution_count": 13,
   "metadata": {},
   "outputs": [
    {
     "name": "stdout",
     "output_type": "stream",
     "text": [
      "Accuracy 0.9333333333333333\n",
      "Confusion Matrix\n",
      "[[25  0  0]\n",
      " [ 0 23  2]\n",
      " [ 0  3 22]]\n",
      "Classification Report\n",
      "              precision    recall  f1-score   support\n",
      "\n",
      "           0       1.00      1.00      1.00        25\n",
      "           1       0.88      0.92      0.90        25\n",
      "           2       0.92      0.88      0.90        25\n",
      "\n",
      "    accuracy                           0.93        75\n",
      "   macro avg       0.93      0.93      0.93        75\n",
      "weighted avg       0.93      0.93      0.93        75\n",
      "\n"
     ]
    }
   ],
   "source": [
    "import sklearn.metrics as sm\n",
    "print('Accuracy',sm.accuracy_score(ytest,preds))\n",
    "print('Confusion Matrix')\n",
    "print(sm.confusion_matrix(ytest,preds))\n",
    "print('Classification Report')\n",
    "print(sm.classification_report(ytest,preds))"
   ]
  },
  {
   "cell_type": "code",
   "execution_count": null,
   "metadata": {},
   "outputs": [],
   "source": []
  }
 ],
 "metadata": {
  "kernelspec": {
   "display_name": "Python 3",
   "language": "python",
   "name": "python3"
  },
  "language_info": {
   "codemirror_mode": {
    "name": "ipython",
    "version": 3
   },
   "file_extension": ".py",
   "mimetype": "text/x-python",
   "name": "python",
   "nbconvert_exporter": "python",
   "pygments_lexer": "ipython3",
   "version": "3.7.4"
  }
 },
 "nbformat": 4,
 "nbformat_minor": 2
}
