{
 "cells": [
  {
   "cell_type": "code",
   "execution_count": 12,
   "metadata": {},
   "outputs": [],
   "source": [
    "import numpy as np\n",
    "x = np.array(([2,9],[1,5],[3,6]), float)\n",
    "y = np.array(([92],[86],[89]), float)\n",
    "x = x/np.amax(x,axis=0)\n",
    "y = y/100"
   ]
  },
  {
   "cell_type": "code",
   "execution_count": 13,
   "metadata": {},
   "outputs": [],
   "source": [
    "e=7000\n",
    "lr=0.1\n",
    "iln=2\n",
    "hln=3\n",
    "oln=1"
   ]
  },
  {
   "cell_type": "code",
   "execution_count": 14,
   "metadata": {},
   "outputs": [],
   "source": [
    "def sigmoid(x):\n",
    "    return 1/(1+np.exp(-x))"
   ]
  },
  {
   "cell_type": "code",
   "execution_count": 15,
   "metadata": {},
   "outputs": [],
   "source": [
    "def dersig(x):\n",
    "    return x*(1-x)"
   ]
  },
  {
   "cell_type": "code",
   "execution_count": 16,
   "metadata": {},
   "outputs": [],
   "source": [
    "wh = np.random.uniform(size=(iln,hln))\n",
    "bh = np.random.uniform(size=(1,hln))\n",
    "wout = np.random.uniform(size=(hln,oln))\n",
    "bout = np.random.uniform(size=(1,oln))"
   ]
  },
  {
   "cell_type": "code",
   "execution_count": 17,
   "metadata": {},
   "outputs": [],
   "source": [
    "for i in range(e):\n",
    "    h1 = np.dot(x,wh)\n",
    "    h = h1+bh\n",
    "    hla = sigmoid(h)\n",
    "    \n",
    "    oi1 = np.dot(hla,wout)\n",
    "    oi = oi1+bout\n",
    "    op = sigmoid(oi)\n",
    "    \n",
    "    EO = y-op\n",
    "    og = dersig(op)\n",
    "    dop = EO*og\n",
    "    \n",
    "    EH = dop.dot(wout.T)\n",
    "    hg = dersig(dop)\n",
    "    dhl = EH*hg\n",
    "    \n",
    "    wout += hla.T.dot(dop)*lr\n",
    "    wh += x.T.dot(dhl)*lr"
   ]
  },
  {
   "cell_type": "code",
   "execution_count": 18,
   "metadata": {},
   "outputs": [
    {
     "name": "stdout",
     "output_type": "stream",
     "text": [
      "Input [[0.66666667 1.        ]\n",
      " [0.33333333 0.55555556]\n",
      " [1.         0.66666667]]\n",
      "Actual [[0.92]\n",
      " [0.86]\n",
      " [0.89]]\n",
      "Pred [[0.71492495]\n",
      " [0.91191315]\n",
      " [0.71027569]]\n"
     ]
    }
   ],
   "source": [
    "print('Input',str(x))\n",
    "print('Actual',str(y))\n",
    "print('Pred',op)"
   ]
  },
  {
   "cell_type": "code",
   "execution_count": null,
   "metadata": {},
   "outputs": [],
   "source": []
  }
 ],
 "metadata": {
  "kernelspec": {
   "display_name": "Python 3",
   "language": "python",
   "name": "python3"
  },
  "language_info": {
   "codemirror_mode": {
    "name": "ipython",
    "version": 3
   },
   "file_extension": ".py",
   "mimetype": "text/x-python",
   "name": "python",
   "nbconvert_exporter": "python",
   "pygments_lexer": "ipython3",
   "version": "3.7.4"
  }
 },
 "nbformat": 4,
 "nbformat_minor": 2
}
