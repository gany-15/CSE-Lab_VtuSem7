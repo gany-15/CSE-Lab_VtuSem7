{
 "cells": [
  {
   "cell_type": "code",
   "execution_count": 23,
   "metadata": {},
   "outputs": [
    {
     "name": "stdout",
     "output_type": "stream",
     "text": [
      "Total Instances:  19\n",
      "Message and Label of First 5 Instances:\n",
      "I love this sandwich , pos\n",
      "This is an amazing place , pos\n",
      "I feel very good about these beers , pos\n",
      "This is my best work , pos\n",
      "What an awesome view , pos\n"
     ]
    }
   ],
   "source": [
    "import pandas as pd\n",
    "msg = pd.read_csv('datasets/6.csv', names=['message','label'])\n",
    "print('Total Instances: ', msg.shape[0])\n",
    "msg['labelnum'] = msg.label.map({'pos':1,'neg':0})\n",
    "X = msg.message\n",
    "Y = msg.labelnum\n",
    "print('Message and Label of First 5 Instances:')\n",
    "x5, y5 = X[:5], msg.label[:5]\n",
    "for x,y in zip(x5,y5):\n",
    "    print(x,',',y)"
   ]
  },
  {
   "cell_type": "code",
   "execution_count": 24,
   "metadata": {},
   "outputs": [
    {
     "name": "stdout",
     "output_type": "stream",
     "text": [
      "Training Instances: 14\n",
      "Testing Instances: 5\n"
     ]
    }
   ],
   "source": [
    "from sklearn.model_selection import train_test_split\n",
    "xtrain, xtest, ytrain, ytest = train_test_split(X, Y)\n",
    "print('Training Instances:', xtrain.shape[0])\n",
    "print('Testing Instances:', xtest.shape[0])"
   ]
  },
  {
   "cell_type": "code",
   "execution_count": 25,
   "metadata": {},
   "outputs": [
    {
     "name": "stdout",
     "output_type": "stream",
     "text": [
      "Total Features Extracted:  51\n",
      "['about', 'am', 'amazing', 'an', 'and', 'awesome', 'bad', 'beers', 'best', 'boss', 'can', 'dance', 'deal', 'do', 'enemy', 'feel', 'fun', 'good', 'great', 'have', 'he', 'holiday', 'horrible', 'house', 'is', 'like', 'locality', 'love', 'my', 'not', 'of', 'place', 'restaurant', 'sick', 'stay', 'sworn', 'that', 'these', 'this', 'tired', 'to', 'today', 'tomorrow', 'very', 'view', 'we', 'went', 'what', 'will', 'with', 'work']\n"
     ]
    }
   ],
   "source": [
    "from sklearn.feature_extraction.text import CountVectorizer\n",
    "count_vect = CountVectorizer()\n",
    "xtrain_dtm = count_vect.fit_transform(xtrain)\n",
    "xtest_dtm = count_vect.transform(xtest)\n",
    "print('Total Features Extracted: ', xtrain_dtm.shape[1])\n",
    "df = pd.DataFrame(xtrain_dtm.toarray(), columns=count_vect.get_feature_names())\n",
    "print(count_vect.get_feature_names())"
   ]
  },
  {
   "cell_type": "code",
   "execution_count": 26,
   "metadata": {},
   "outputs": [],
   "source": [
    "from sklearn.naive_bayes import MultinomialNB\n",
    "clf = MultinomialNB().fit(xtrain_dtm, ytrain)\n",
    "predicted = clf.predict(xtest_dtm)"
   ]
  },
  {
   "cell_type": "code",
   "execution_count": 27,
   "metadata": {},
   "outputs": [
    {
     "name": "stdout",
     "output_type": "stream",
     "text": [
      "Accuracy: 0.8\n",
      "Recall: 0.6666666666666666 \n",
      "Precision: 1.0\n",
      "Confusion Matrix:\n",
      "[[2 0]\n",
      " [1 2]]\n"
     ]
    }
   ],
   "source": [
    "from sklearn import metrics\n",
    "print('Accuracy:', metrics.accuracy_score(ytest, predicted))\n",
    "print('Recall:', metrics.recall_score(ytest, predicted), '\\nPrecision:', metrics.precision_score(ytest, predicted))\n",
    "print('Confusion Matrix:')\n",
    "print(metrics.confusion_matrix(ytest, predicted))"
   ]
  },
  {
   "cell_type": "code",
   "execution_count": null,
   "metadata": {},
   "outputs": [],
   "source": []
  }
 ],
 "metadata": {
  "kernelspec": {
   "display_name": "Python 3",
   "language": "python",
   "name": "python3"
  },
  "language_info": {
   "codemirror_mode": {
    "name": "ipython",
    "version": 3
   },
   "file_extension": ".py",
   "mimetype": "text/x-python",
   "name": "python",
   "nbconvert_exporter": "python",
   "pygments_lexer": "ipython3",
   "version": "3.7.4"
  }
 },
 "nbformat": 4,
 "nbformat_minor": 2
}
